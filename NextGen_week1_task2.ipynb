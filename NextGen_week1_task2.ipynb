{
 "cells": [
  {
   "cell_type": "markdown",
   "id": "0dd8a3ce-6442-41fb-b68a-57545c5f1f45",
   "metadata": {},
   "source": [
    "# Simple data manipulation using lists and dictionaries"
   ]
  },
  {
   "cell_type": "markdown",
   "id": "a3c67763-44c9-4a4c-bdef-78028fcfbd6c",
   "metadata": {},
   "source": [
    "### 1. Count Word Frequency in a List\n",
    "### Given a list of words, count how many times each word appears using a dictionary."
   ]
  },
  {
   "cell_type": "code",
   "execution_count": 1,
   "id": "032bce72-10de-469c-8802-aa2561407ca9",
   "metadata": {},
   "outputs": [
    {
     "name": "stdout",
     "output_type": "stream",
     "text": [
      "Word Frequencies:\n",
      "apple: 3\n",
      "banana: 2\n",
      "orange: 1\n"
     ]
    }
   ],
   "source": [
    "words = ['apple', 'banana', 'apple', 'orange', 'banana', 'apple']\n",
    "word_count = {}\n",
    "for word in words:\n",
    "    word_count[word] = word_count.get(word, 0) + 1\n",
    "print(\"Word Frequencies:\")\n",
    "for word, count in word_count.items():\n",
    "    print(f\"{word}: {count}\")"
   ]
  },
  {
   "cell_type": "markdown",
   "id": "d4131c25-259e-4130-a7c8-48c390e2cb63",
   "metadata": {},
   "source": [
    "### 2. Filter Students Who Passed All Subjects\n",
    "### Each student has marks in subjects. Filter only those who passed all subjects (assume pass mark is 40)."
   ]
  },
  {
   "cell_type": "code",
   "execution_count": 2,
   "id": "10362bc4-f554-44f9-8904-7d6b2afa9dbd",
   "metadata": {},
   "outputs": [
    {
     "name": "stdout",
     "output_type": "stream",
     "text": [
      "Students who passed all subjects:\n",
      "Amit\n",
      "Kiran\n"
     ]
    }
   ],
   "source": [
    "students = [\n",
    "    {'name': 'Amit', 'marks': [55, 67, 80]},\n",
    "    {'name': 'Neha', 'marks': [30, 50, 45]},\n",
    "    {'name': 'Kiran', 'marks': [42, 60, 77]},\n",
    "]\n",
    "passed_students = []\n",
    "for student in students:\n",
    "    if all(mark >= 40 for mark in student['marks']):\n",
    "        passed_students.append(student['name'])\n",
    "print(\"Students who passed all subjects:\")\n",
    "for name in passed_students:\n",
    "    print(name)"
   ]
  },
  {
   "cell_type": "markdown",
   "id": "766cadc5-6623-4837-a10d-22dd7ca15ee6",
   "metadata": {},
   "source": [
    "### 3. Sort Dictionary by Value\n",
    "### Sort a dictionary (e.g., student total scores) by values in descending order."
   ]
  },
  {
   "cell_type": "code",
   "execution_count": 4,
   "id": "92c8c1ad-b025-4fe0-aa5b-2999549c8b50",
   "metadata": {},
   "outputs": [
    {
     "name": "stdout",
     "output_type": "stream",
     "text": [
      "Student Scores (High to Low):\n",
      "Sandeep: 280\n",
      "Anjali: 275\n",
      "Meena: 260\n",
      "Ravi: 250\n"
     ]
    }
   ],
   "source": [
    "student_scores = {\n",
    "    'Ravi': 250,\n",
    "    'Anjali': 275,\n",
    "    'Meena': 260,\n",
    "    'Sandeep': 280\n",
    "}\n",
    "sorted_scores = dict(sorted(student_scores.items(), key=lambda x: x[1], reverse=True))\n",
    "print(\"Student Scores (High to Low):\")\n",
    "for name, score in sorted_scores.items():\n",
    "    print(f\"{name}: {score}\")"
   ]
  },
  {
   "cell_type": "markdown",
   "id": "d7ba9198-00de-424f-8cb7-bca60a343267",
   "metadata": {},
   "source": [
    "### 4: Group Employees by Department\n",
    "### You have a list of employees with departments. Group them by department using a dictionary."
   ]
  },
  {
   "cell_type": "code",
   "execution_count": 5,
   "id": "6d05ed7e-a5b6-48ac-b4a9-cd19177bccbf",
   "metadata": {},
   "outputs": [
    {
     "name": "stdout",
     "output_type": "stream",
     "text": [
      "Employees by Department:\n",
      "HR: Jai, Bandu\n",
      "IT: Amit, Eklavya\n",
      "Finance: Chetan\n"
     ]
    }
   ],
   "source": [
    "employees = [\n",
    "    {'name': 'Jai', 'dept': 'HR'},\n",
    "    {'name': 'Amit', 'dept': 'IT'},\n",
    "    {'name': 'Bandu', 'dept': 'HR'},\n",
    "    {'name': 'Chetan', 'dept': 'Finance'},\n",
    "    {'name': 'Eklavya', 'dept': 'IT'}\n",
    "]\n",
    "department_groups = {}\n",
    "for emp in employees:\n",
    "    dept = emp['dept']\n",
    "    department_groups.setdefault(dept, []).append(emp['name'])\n",
    "print(\"Employees by Department:\")\n",
    "for dept, names in department_groups.items():\n",
    "    print(f\"{dept}: {', '.join(names)}\")"
   ]
  },
  {
   "cell_type": "markdown",
   "id": "787811cf-ce9f-4a90-b6ce-67fc66066526",
   "metadata": {},
   "source": [
    "### 5. Find Common Elements in Two Lists\n",
    "### Given two lists of numbers, find the common elements using a dictionary or set."
   ]
  },
  {
   "cell_type": "code",
   "execution_count": 6,
   "id": "34f1b260-2d27-4e0e-a79c-a6d1fceb9c4b",
   "metadata": {},
   "outputs": [
    {
     "name": "stdout",
     "output_type": "stream",
     "text": [
      "Common Elements: [4, 5]\n"
     ]
    }
   ],
   "source": [
    "list1 = [1, 2, 3, 4, 5]\n",
    "list2 = [4, 5, 6, 7, 8]\n",
    "common = list(set(list1) & set(list2))\n",
    "print(\"Common Elements:\", common)"
   ]
  },
  {
   "cell_type": "markdown",
   "id": "3bac58fd-0faa-487b-8e27-3886f68cae2c",
   "metadata": {},
   "source": [
    "### 6. Track Product Stock and Sales\n",
    "### Simulate a simple inventory system where you reduce stock when a product is sold."
   ]
  },
  {
   "cell_type": "code",
   "execution_count": 7,
   "id": "ff929994-5ace-4664-9769-8e31cc7779a9",
   "metadata": {},
   "outputs": [
    {
     "name": "stdout",
     "output_type": "stream",
     "text": [
      "Updated Inventory:\n",
      "pen: 97\n",
      "notebook: 49\n",
      "eraser: 70\n"
     ]
    }
   ],
   "source": [
    "inventory = {\n",
    "    'pen': 100,\n",
    "    'notebook': 50,\n",
    "    'eraser': 75\n",
    "}\n",
    "sales = {\n",
    "    'pen': 3,\n",
    "    'eraser': 5,\n",
    "    'notebook': 1\n",
    "}\n",
    "for item, sold_qty in sales.items():\n",
    "    if item in inventory:\n",
    "        inventory[item] -= sold_qty\n",
    "print(\"Updated Inventory:\")\n",
    "for item, qty in inventory.items():\n",
    "    print(f\"{item}: {qty}\")"
   ]
  },
  {
   "cell_type": "markdown",
   "id": "d8fb7c82-cb47-43cc-b645-ed400bbd66dd",
   "metadata": {},
   "source": [
    "### 7. Create a Contact Book\n",
    "### Let users store and search contact names and phone numbers."
   ]
  },
  {
   "cell_type": "code",
   "execution_count": 9,
   "id": "43f07d52-b348-4252-a1f0-a20ef109bcde",
   "metadata": {},
   "outputs": [
    {
     "name": "stdin",
     "output_type": "stream",
     "text": [
      "Enter contact name to search:  Sandeep\n"
     ]
    },
    {
     "name": "stdout",
     "output_type": "stream",
     "text": [
      "Sandeep's number is: 9988776655\n"
     ]
    }
   ],
   "source": [
    "contacts = {\n",
    "    'Arum': '9876543210',\n",
    "    'Binod': '9123456789',\n",
    "    'Sandeep': '9988776655'\n",
    "}\n",
    "name = input(\"Enter contact name to search: \")\n",
    "if name in contacts:\n",
    "    print(f\"{name}'s number is: {contacts[name]}\")\n",
    "else:\n",
    "    print(\"Contact not found.\")"
   ]
  },
  {
   "cell_type": "markdown",
   "id": "38788cd8-6021-4c77-8bb8-14a1e50af04a",
   "metadata": {},
   "source": [
    "### 8: Count Even and Odd Numbers in a List\n",
    "### Take a list of integers and count how many are even and how many are odd."
   ]
  },
  {
   "cell_type": "code",
   "execution_count": 11,
   "id": "720431ab-09be-4a9d-a454-e8d1d0db6804",
   "metadata": {},
   "outputs": [
    {
     "name": "stdout",
     "output_type": "stream",
     "text": [
      "Even numbers: 3\n",
      "Odd numbers: 4\n"
     ]
    }
   ],
   "source": [
    "numbers = [10, 21, 4, 45, 66, 93, 1]\n",
    "even_count = 0\n",
    "odd_count = 0\n",
    "for num in numbers:\n",
    "    if num % 2 == 0:\n",
    "        even_count += 1\n",
    "    else:\n",
    "        odd_count += 1\n",
    "print(f\"Even numbers: {even_count}\")\n",
    "print(f\"Odd numbers: {odd_count}\")"
   ]
  },
  {
   "cell_type": "markdown",
   "id": "f779a7d5-7cfe-4098-bdb3-01b7c9c3cad1",
   "metadata": {},
   "source": [
    "### 9. Convert List of Tuples to Dictionary\n",
    "### Convert a list of key-value pairs into a dictionary."
   ]
  },
  {
   "cell_type": "code",
   "execution_count": 12,
   "id": "c8f45fcf-9105-420a-84cf-c9082bcb7285",
   "metadata": {},
   "outputs": [
    {
     "name": "stdout",
     "output_type": "stream",
     "text": [
      "Converted Dictionary: {'a': 1, 'b': 2, 'c': 3}\n"
     ]
    }
   ],
   "source": [
    "pairs = [('a', 1), ('b', 2), ('c', 3)]\n",
    "result_dict = dict(pairs)\n",
    "print(\"Converted Dictionary:\", result_dict)"
   ]
  },
  {
   "cell_type": "markdown",
   "id": "0dcbdaec-f806-4f77-80cb-eb1665f5c98a",
   "metadata": {},
   "source": [
    "### 10. Manage student marks using a list and dictionary\n",
    "### 🔹 Requirements:\n",
    "### Store information for multiple students.\n",
    "### Each student has a name and marks in 3 subjects.\n",
    "### Perform the following:\n",
    "##### 1. Add student data.\n",
    "##### 2. Calculate average marks for each student.\n",
    "##### 3. Find the student with the highest average."
   ]
  },
  {
   "cell_type": "code",
   "execution_count": 13,
   "id": "ed16c0d0-7661-4b91-892c-7ee0d062a0f7",
   "metadata": {},
   "outputs": [
    {
     "name": "stdout",
     "output_type": "stream",
     "text": [
      "Student Averages:\n",
      "Sandeep - Average: 84.33\n",
      "Omraj - Average: 80.00\n",
      "Vaibhav - Average: 91.67\n",
      "\n",
      "Topper: Vaibhav with an average of 91.67\n"
     ]
    }
   ],
   "source": [
    "students = []\n",
    "students.append({'name': 'Sandeep', 'marks': [85, 90, 78]})\n",
    "students.append({'name': 'Omraj', 'marks': [70, 88, 82]})\n",
    "students.append({'name': 'Vaibhav', 'marks': [95, 91, 89]})\n",
    "def calculate_average(marks):\n",
    "    return sum(marks) / len(marks)\n",
    "topper = None\n",
    "highest_avg = 0\n",
    "print(\"Student Averages:\")\n",
    "for student in students:\n",
    "    avg = calculate_average(student['marks'])\n",
    "    print(f\"{student['name']} - Average: {avg:.2f}\")\n",
    "    if avg > highest_avg:\n",
    "        highest_avg = avg\n",
    "        topper = student['name']\n",
    "print(f\"\\nTopper: {topper} with an average of {highest_avg:.2f}\")"
   ]
  },
  {
   "cell_type": "code",
   "execution_count": null,
   "id": "e1ff3c08-a455-46f4-af81-2a154ea29c73",
   "metadata": {},
   "outputs": [],
   "source": []
  }
 ],
 "metadata": {
  "kernelspec": {
   "display_name": "Python 3 (ipykernel)",
   "language": "python",
   "name": "python3"
  },
  "language_info": {
   "codemirror_mode": {
    "name": "ipython",
    "version": 3
   },
   "file_extension": ".py",
   "mimetype": "text/x-python",
   "name": "python",
   "nbconvert_exporter": "python",
   "pygments_lexer": "ipython3",
   "version": "3.12.7"
  }
 },
 "nbformat": 4,
 "nbformat_minor": 5
}
