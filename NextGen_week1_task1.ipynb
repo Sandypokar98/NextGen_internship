{
 "cells": [
  {
   "cell_type": "markdown",
   "id": "81083c7f-f603-4a45-992b-75ceb8871d93",
   "metadata": {},
   "source": [
    "### "
   ]
  },
  {
   "cell_type": "markdown",
   "id": "430683c3-e7ef-4b31-9ff1-e752986f6483",
   "metadata": {},
   "source": [
    "# Write Python programs for loops, conditions, and functions"
   ]
  },
  {
   "cell_type": "markdown",
   "id": "7c98628d-538d-4131-a3f1-67df90b04e37",
   "metadata": {
    "jp-MarkdownHeadingCollapsed": true
   },
   "source": [
    "## Programs on loops\n",
    "### @for loop\n",
    "### 1. Write a Python program to calculate the factorial of a given number using for loop."
   ]
  },
  {
   "cell_type": "code",
   "execution_count": 141,
   "id": "3265233b-d491-4fbd-85b6-60fe99786f1d",
   "metadata": {},
   "outputs": [
    {
     "name": "stdin",
     "output_type": "stream",
     "text": [
      "Enter the number: 5\n"
     ]
    },
    {
     "name": "stdout",
     "output_type": "stream",
     "text": [
      "Factorial of 5 = 120\n"
     ]
    }
   ],
   "source": [
    "number=int(input(\"Enter the number:\"))\n",
    "fact=1\n",
    "if number >= 0:\n",
    "    for i in range(1,number+1):\n",
    "        fact*=i\n",
    "    print(f\"Factorial of {number} = {fact}\")\n",
    "else:\n",
    "    print(\"Please enter non negative number\")"
   ]
  },
  {
   "cell_type": "markdown",
   "id": "0b76be26-be07-4bf5-bd9f-f6551ee7feca",
   "metadata": {},
   "source": [
    "### 2. Write a program to check whether a given number is prime or not using for loop."
   ]
  },
  {
   "cell_type": "code",
   "execution_count": 142,
   "id": "2dd11055-84a0-467d-82c9-eb0bf9f69296",
   "metadata": {},
   "outputs": [
    {
     "name": "stdin",
     "output_type": "stream",
     "text": [
      "Enter number: 17\n"
     ]
    },
    {
     "name": "stdout",
     "output_type": "stream",
     "text": [
      "number is prime\n"
     ]
    }
   ],
   "source": [
    "number=int(input(\"Enter number:\"))\n",
    "flag=0\n",
    "for i in range(2,number):\n",
    "    if number % i == 0:\n",
    "        flag = 1\n",
    "        break\n",
    "if flag==1:\n",
    "    print(\"number is not prime\")\n",
    "else:\n",
    "    print(\"number is prime\")"
   ]
  },
  {
   "cell_type": "markdown",
   "id": "4461438f-5fee-4bf2-bf22-011188c53c3b",
   "metadata": {},
   "source": [
    "### 3. Write a Python program to generate the Fibonacci series up to given number of terms using for loop."
   ]
  },
  {
   "cell_type": "code",
   "execution_count": 145,
   "id": "0c5f26ed-36c1-45d7-986b-6368fecec535",
   "metadata": {},
   "outputs": [
    {
     "name": "stdin",
     "output_type": "stream",
     "text": [
      "Enter number: 9\n"
     ]
    },
    {
     "name": "stdout",
     "output_type": "stream",
     "text": [
      "0 1 1 2 3 5 8 13 21 "
     ]
    }
   ],
   "source": [
    "number=int(input(\"Enter number:\"))\n",
    "t1=0\n",
    "t2=1\n",
    "fibo=[]\n",
    "fibo.append(t1)\n",
    "fibo.append(t2)\n",
    "for i in range(number-2):\n",
    "    t3=t1+t2\n",
    "    fibo.append(t3)\n",
    "    t1=t2\n",
    "    t2=t3\n",
    "for _ in fibo:\n",
    "    print(_,end=(\" \"))"
   ]
  },
  {
   "cell_type": "markdown",
   "id": "17ea2545-4e11-4dd5-b9f8-24bd7bc61be1",
   "metadata": {},
   "source": [
    "### 4. Create a program to print the multiplication table of a given number using for loop."
   ]
  },
  {
   "cell_type": "code",
   "execution_count": 146,
   "id": "72d97bb3-d786-4be9-ae9f-218076374b09",
   "metadata": {},
   "outputs": [
    {
     "name": "stdin",
     "output_type": "stream",
     "text": [
      "Enter th number 27\n"
     ]
    },
    {
     "name": "stdout",
     "output_type": "stream",
     "text": [
      "The table of 27\n",
      "27 54 81 108 135 162 189 216 243 270 "
     ]
    }
   ],
   "source": [
    "number=int(input(\"Enter th number\"))\n",
    "print(f\"The table of {number}\")\n",
    "for i in range(1,11):\n",
    "    print(f\"{i*number}\",end=(\" \"))"
   ]
  },
  {
   "cell_type": "markdown",
   "id": "46275430-3b94-433e-94b9-89d453048337",
   "metadata": {},
   "source": [
    "### @While loop"
   ]
  },
  {
   "cell_type": "markdown",
   "id": "de5d9d1c-8a86-40c4-a520-e16b1a844d27",
   "metadata": {},
   "source": [
    "### 1. Write a Python program to calculate the factorial of a given number using while loop"
   ]
  },
  {
   "cell_type": "code",
   "execution_count": 147,
   "id": "d5045e58-1a39-428e-8fde-a7cc72cda0bf",
   "metadata": {},
   "outputs": [
    {
     "name": "stdin",
     "output_type": "stream",
     "text": [
      "Enter a non-negative integer:  6\n"
     ]
    },
    {
     "name": "stdout",
     "output_type": "stream",
     "text": [
      "The factorial of 6 is 720\n"
     ]
    }
   ],
   "source": [
    "num = int(input(\"Enter a non-negative integer: \"))\n",
    "number=num\n",
    "if num < 0:\n",
    "    print(\"Factorial is not defined for negative numbers\")\n",
    "elif num == 0:\n",
    "    print(\"The factorial of 0 is 1\")\n",
    "else:\n",
    "    factorial = 1\n",
    "    while num > 0:\n",
    "        factorial = factorial * num\n",
    "        num = num - 1\n",
    "print(\"The factorial of\", number, \"is\", factorial)"
   ]
  },
  {
   "cell_type": "markdown",
   "id": "d379548c-a4cf-4b21-b340-1e53ea72e46b",
   "metadata": {},
   "source": [
    "### 2. Write a program to check whether a given number is prime or not using while loop."
   ]
  },
  {
   "cell_type": "code",
   "execution_count": 148,
   "id": "e2f853b5-122b-4974-9775-a45a72851bd1",
   "metadata": {},
   "outputs": [
    {
     "name": "stdin",
     "output_type": "stream",
     "text": [
      "Enter a positive integer:  19\n"
     ]
    },
    {
     "name": "stdout",
     "output_type": "stream",
     "text": [
      "19 is a prime number\n"
     ]
    }
   ],
   "source": [
    "num = int(input(\"Enter a positive integer: \"))\n",
    "if num <= 1:\n",
    "    print(num, \"is not a prime number\")\n",
    "else:\n",
    "    divisor = 2\n",
    "    while divisor * divisor <= num:\n",
    "        if num % divisor == 0:\n",
    "            print(num, \"is not a prime number\")\n",
    "            break  \n",
    "        divisor += 1\n",
    "    else:\n",
    "        print(num, \"is a prime number\")"
   ]
  },
  {
   "cell_type": "markdown",
   "id": "8215d937-2cda-4198-b782-861822ecdc4b",
   "metadata": {},
   "source": [
    "### 3. Write a Python program to generate the Fibonacci series up to a given number of terms using while loop."
   ]
  },
  {
   "cell_type": "code",
   "execution_count": 150,
   "id": "be6a53e3-21c3-4ac2-83ae-25e5a581a8cc",
   "metadata": {},
   "outputs": [
    {
     "name": "stdin",
     "output_type": "stream",
     "text": [
      "Enter the number of terms for the Fibonacci series:  19\n"
     ]
    },
    {
     "name": "stdout",
     "output_type": "stream",
     "text": [
      "0 1 1 2 3 5 8 13 21 34 55 89 144 233 377 610 987 1597 2584 "
     ]
    }
   ],
   "source": [
    "terms = int(input(\"Enter the number of terms for the Fibonacci series: \"))\n",
    "a = 0\n",
    "b = 1\n",
    "if terms > 0:\n",
    "    print(a,end=(\" \"))\n",
    "if terms > 1:\n",
    "    print(b,end=(\" \"))\n",
    "count = 2 \n",
    "while count < terms:\n",
    "    next_num = a + b\n",
    "    print(next_num,end=(\" \"))\n",
    "    a = b\n",
    "    b = next_num\n",
    "    count += 1"
   ]
  },
  {
   "cell_type": "markdown",
   "id": "f0ab9ee3-19c9-45fe-8b2e-0a226a75da93",
   "metadata": {},
   "source": [
    "### 4. Create a program to print the multiplication table of a given number using while loop."
   ]
  },
  {
   "cell_type": "code",
   "execution_count": 151,
   "id": "c86ef199-a4d1-4293-b77b-25737847e3c4",
   "metadata": {},
   "outputs": [
    {
     "name": "stdin",
     "output_type": "stream",
     "text": [
      "Enter the number for the multiplication table:  23\n"
     ]
    },
    {
     "name": "stdout",
     "output_type": "stream",
     "text": [
      "table of 23\n",
      "23 46 69 92 115 138 161 184 207 230 "
     ]
    }
   ],
   "source": [
    "num = int(input(\"Enter the number for the multiplication table: \"))\n",
    "i = 1\n",
    "print(f\"table of {num}\")\n",
    "while i <= 10:\n",
    "    print(num * i,end=(\" \"))\n",
    "    i += 1"
   ]
  },
  {
   "cell_type": "markdown",
   "id": "30c469b0-d3d1-4f67-ba03-907552ebcade",
   "metadata": {},
   "source": [
    "### @Start pattern\n",
    "### 1. write program to print following pattern (take number of lines from user)\n",
    "### *\n",
    "### * *\n",
    "### * * *\n",
    "### * * * *\n",
    "### * * * * *"
   ]
  },
  {
   "cell_type": "code",
   "execution_count": 152,
   "id": "5b9ac58d-4954-441a-99bf-99eb52b5f651",
   "metadata": {},
   "outputs": [
    {
     "name": "stdin",
     "output_type": "stream",
     "text": [
      "Enter the number for star pattern: 6\n"
     ]
    },
    {
     "name": "stdout",
     "output_type": "stream",
     "text": [
      "* \n",
      "* * \n",
      "* * * \n",
      "* * * * \n",
      "* * * * * \n",
      "* * * * * * \n"
     ]
    }
   ],
   "source": [
    "num = int(input(\"Enter the number for star pattern:\"))\n",
    "for i in range(1, num+1):\n",
    "    print(\"* \" * i)"
   ]
  },
  {
   "cell_type": "markdown",
   "id": "2034d7fe-c16a-4e60-8e15-8e4339badd7c",
   "metadata": {},
   "source": [
    "### 2. write program to Pyramid of stars (take number of lines from user)"
   ]
  },
  {
   "cell_type": "code",
   "execution_count": 153,
   "id": "3e22e6e4-a771-4fb4-a927-88cdad45b03e",
   "metadata": {},
   "outputs": [
    {
     "name": "stdin",
     "output_type": "stream",
     "text": [
      "Enter the number for star pattrn 6\n"
     ]
    },
    {
     "name": "stdout",
     "output_type": "stream",
     "text": [
      "     * \n",
      "    * * \n",
      "   * * * \n",
      "  * * * * \n",
      " * * * * * \n",
      "* * * * * * \n"
     ]
    }
   ],
   "source": [
    "num = int(input(\"Enter the number for star pattrn\"))\n",
    "for i in range(1, num+1):\n",
    "    print(\" \" * (num-i) + \"* \" * i)"
   ]
  },
  {
   "cell_type": "markdown",
   "id": "8c3df594-aef9-4edd-909a-7ac3951d9734",
   "metadata": {},
   "source": [
    "### @number pattern\n",
    "### 1. write pogram for following number pattern\n",
    "### 1\n",
    "### 2 2\n",
    "### 3 3 3\n",
    "### 4 4 4 4\n",
    "### 5 5 5 5 5"
   ]
  },
  {
   "cell_type": "code",
   "execution_count": 154,
   "id": "de55f1c7-0b0e-4637-a5dd-db35c00cce81",
   "metadata": {},
   "outputs": [
    {
     "name": "stdin",
     "output_type": "stream",
     "text": [
      "Enter number fo number pattern: 6\n"
     ]
    },
    {
     "name": "stdout",
     "output_type": "stream",
     "text": [
      "1 \n",
      "2 2 \n",
      "3 3 3 \n",
      "4 4 4 4 \n",
      "5 5 5 5 5 \n",
      "6 6 6 6 6 6 \n"
     ]
    }
   ],
   "source": [
    "num=int(input(\"Enter number fo number pattern:\"))\n",
    "for i in range(1, num+1):\n",
    "    for j in range(i):\n",
    "        print(i, end=\" \")\n",
    "    print()"
   ]
  },
  {
   "cell_type": "markdown",
   "id": "e1f0fb6c-af3c-486e-ae39-009b644019e1",
   "metadata": {},
   "source": [
    "### 2. write pogram for following number pattern\n",
    "### 1\n",
    "### 2 3\n",
    "### 3 4 5\n",
    "### 4 5 6 7\n",
    "### 5 6 7 8 9"
   ]
  },
  {
   "cell_type": "code",
   "execution_count": 155,
   "id": "54333319-e9af-4c9f-a05f-67b858553a4a",
   "metadata": {},
   "outputs": [
    {
     "name": "stdin",
     "output_type": "stream",
     "text": [
      "Enter the number for number pattern: 6\n"
     ]
    },
    {
     "name": "stdout",
     "output_type": "stream",
     "text": [
      "1 \n",
      "2 3 \n",
      "3 4 5 \n",
      "4 5 6 7 \n",
      "5 6 7 8 9 \n",
      "6 7 8 9 10 11 \n"
     ]
    }
   ],
   "source": [
    "num=int(input(\"Enter the number for number pattern:\"))\n",
    "for i in range(1, num+1):\n",
    "    start = i\n",
    "    for j in range(i):\n",
    "        print(start, end=\" \")\n",
    "        start += 1\n",
    "    print()"
   ]
  },
  {
   "cell_type": "markdown",
   "id": "21a5151a-5069-482e-bd13-42c562690806",
   "metadata": {},
   "source": [
    "### @Alphabet pattern\n",
    "### 1. write pogram for following alpha pattern\n",
    "### A\n",
    "### B B\n",
    "### C C C\n",
    "### D D D D\n",
    "### E E E E E"
   ]
  },
  {
   "cell_type": "code",
   "execution_count": 156,
   "id": "1af738ae-f825-44d5-9cfa-b77a1fc48b33",
   "metadata": {},
   "outputs": [
    {
     "name": "stdin",
     "output_type": "stream",
     "text": [
      "Enter number of lines for alphabe pattern 6\n"
     ]
    },
    {
     "name": "stdout",
     "output_type": "stream",
     "text": [
      "A \n",
      "B B \n",
      "C C C \n",
      "D D D D \n",
      "E E E E E \n",
      "F F F F F F \n"
     ]
    }
   ],
   "source": [
    "num=int(input(\"Enter number of lines for alphabe pattern\"))\n",
    "for i in range(num):\n",
    "    char = chr(ord('A') + i)\n",
    "    for j in range(i + 1):\n",
    "        print(char, end=\" \")\n",
    "    print()"
   ]
  },
  {
   "cell_type": "markdown",
   "id": "21e8b48c-3407-48fd-ac12-c7f226b998c5",
   "metadata": {},
   "source": [
    "### @Alphabet pattern\n",
    "### 2. write pogram for following alpha pattern\n",
    "### A \n",
    "### B A \n",
    "### C B A \n",
    "### D C B A \n",
    "### E D C B A "
   ]
  },
  {
   "cell_type": "code",
   "execution_count": 157,
   "id": "00b2bd99-e029-46e3-b97b-d2919f95bd9a",
   "metadata": {},
   "outputs": [
    {
     "name": "stdin",
     "output_type": "stream",
     "text": [
      "Enter the number for alphabet pattern: 6\n"
     ]
    },
    {
     "name": "stdout",
     "output_type": "stream",
     "text": [
      "A \n",
      "B A \n",
      "C B A \n",
      "D C B A \n",
      "E D C B A \n",
      "F E D C B A \n"
     ]
    }
   ],
   "source": [
    "num=int(input(\"Enter the number for alphabet pattern:\"))\n",
    "for i in range(num):\n",
    "    char = chr(ord('A') + i)  # Get the character ('A', 'B', 'C', ...)\n",
    "    for j in range(i + 1):\n",
    "        print(chr(ord(char) - j), end=\" \")\n",
    "    print()"
   ]
  },
  {
   "cell_type": "markdown",
   "id": "7718b787-48f8-4eea-beeb-dc3b2640426c",
   "metadata": {
    "jp-MarkdownHeadingCollapsed": true
   },
   "source": [
    "## Programs on conditional statements\n",
    "## @if...elif...else\n",
    "### 1. Write a progaram input an no  to check no is negative or positive."
   ]
  },
  {
   "cell_type": "code",
   "execution_count": 158,
   "id": "53361555-652a-4afb-a3e2-36a47498e8c7",
   "metadata": {},
   "outputs": [
    {
     "name": "stdin",
     "output_type": "stream",
     "text": [
      "Enter any number: 7\n"
     ]
    },
    {
     "name": "stdout",
     "output_type": "stream",
     "text": [
      "Number is positive\n"
     ]
    }
   ],
   "source": [
    "number = float(input(\"Enter any number:\"))\n",
    "if number>0:\n",
    "    print(\"Number is positive\")\n",
    "elif number <0:\n",
    "    print(\"Number is negative\")\n",
    "else:\n",
    "    print(\"Number is neither negative nor positive\")"
   ]
  },
  {
   "cell_type": "markdown",
   "id": "21fe7cfc-75e5-4c71-80e4-9e5401bd97aa",
   "metadata": {},
   "source": [
    "### 2. Wap input an no and check it is even or odd no."
   ]
  },
  {
   "cell_type": "code",
   "execution_count": 159,
   "id": "5a488568-7405-4b44-bf03-e944cb195362",
   "metadata": {},
   "outputs": [
    {
     "name": "stdin",
     "output_type": "stream",
     "text": [
      "Enter the integer 37\n"
     ]
    },
    {
     "name": "stdout",
     "output_type": "stream",
     "text": [
      "Number is Odd\n"
     ]
    }
   ],
   "source": [
    "number = int(input(\"Enter the integer\"))\n",
    "if number%2 == 0:\n",
    "    print(\"Number is Even\")\n",
    "else:\n",
    "    print(\"Number is Odd\")"
   ]
  },
  {
   "cell_type": "markdown",
   "id": "29be48e6-272c-41fb-becb-bfe878c5d194",
   "metadata": {},
   "source": [
    "### 3. Take three int values from user and print largest among them."
   ]
  },
  {
   "cell_type": "code",
   "execution_count": 160,
   "id": "2347737d-a36e-472f-ba8e-0554fb90dfc3",
   "metadata": {},
   "outputs": [
    {
     "name": "stdin",
     "output_type": "stream",
     "text": [
      "Enter 1st number:  1\n",
      "Enter 2nd number:  9\n",
      "Enter 3rd number:  -8\n"
     ]
    },
    {
     "name": "stdout",
     "output_type": "stream",
     "text": [
      "9 is largest\n"
     ]
    }
   ],
   "source": [
    "number1=int(input(\"Enter 1st number: \"))\n",
    "number2=int(input(\"Enter 2nd number: \"))\n",
    "number3=int(input(\"Enter 3rd number: \"))\n",
    "if number1 > number2:\n",
    "    if number1 > number3:\n",
    "        print(f\"{number1} is largest\")\n",
    "    else:\n",
    "        print(f\"{number3} is largest\")\n",
    "if number2 > number1:\n",
    "    if number2 > number3:\n",
    "        print(f\"{number2} is largest\")\n",
    "    else:\n",
    "        print(f\"{number3} is largest\")"
   ]
  },
  {
   "cell_type": "markdown",
   "id": "59084532-3041-44bf-8905-e1944cf9478c",
   "metadata": {},
   "source": [
    "### 4. Wap to Take values of length and breadth of a rectangle from user and check if it is square or not"
   ]
  },
  {
   "cell_type": "code",
   "execution_count": 161,
   "id": "f0830fd0-b80b-4584-8be3-0f69f120b8f3",
   "metadata": {},
   "outputs": [
    {
     "name": "stdin",
     "output_type": "stream",
     "text": [
      "Enter the length: 23\n",
      "Enter the breadth: 26\n"
     ]
    },
    {
     "name": "stdout",
     "output_type": "stream",
     "text": [
      "Given dimntions are of Rectangle\n"
     ]
    }
   ],
   "source": [
    "length=int(input(\"Enter the length:\"))\n",
    "breadth=int(input(\"Enter the breadth:\"))\n",
    "if length <= 0 or breadth <= 0:\n",
    "    print(\"Enter positive length and breadth\")\n",
    "elif length == breadth:\n",
    "    print(\"Given dimentions are of Square\")\n",
    "else:\n",
    "    print(\"Given dimntions are of Rectangle\")"
   ]
  },
  {
   "cell_type": "markdown",
   "id": "ca713086-324b-4c90-a9d5-7e7e1dd5ff73",
   "metadata": {},
   "source": [
    "### 5. A shop will give discount of 10% if the cost of purchased quantity is more than 1000. Ask user for quantity. Suppose, one unit will cost 100. Judge and print total cost for user."
   ]
  },
  {
   "cell_type": "code",
   "execution_count": 162,
   "id": "5df94c5e-9753-477d-9b58-b8b9ebdd6d51",
   "metadata": {},
   "outputs": [
    {
     "name": "stdin",
     "output_type": "stream",
     "text": [
      "Enter quantity: 56\n",
      "Enter price per unit 65\n"
     ]
    },
    {
     "name": "stdout",
     "output_type": "stream",
     "text": [
      "cost = 3276.0\n"
     ]
    }
   ],
   "source": [
    "unit=int(input(\"Enter quantity:\"))\n",
    "price_per_unit=float(input(\"Enter price per unit\"))\n",
    "total_amount=unit*price_per_unit\n",
    "if total_amount > 1000:\n",
    "    total_amount*=0.9\n",
    "print(f\"cost = {total_amount}\")\n"
   ]
  },
  {
   "cell_type": "markdown",
   "id": "a2719f7f-39f8-4fff-be4a-1e567e5c39e6",
   "metadata": {},
   "source": [
    "### 6. A company decided to give bonus of 5% to employee if his/her year of service is more than 5 years. Ask user for their salary and year of service and print the net bonus amount."
   ]
  },
  {
   "cell_type": "code",
   "execution_count": 163,
   "id": "1aaff0ac-9afb-4954-82a7-10e391ac4aa1",
   "metadata": {},
   "outputs": [
    {
     "name": "stdin",
     "output_type": "stream",
     "text": [
      "Enter your salary 500000\n",
      "Enter expriency in year 6\n"
     ]
    },
    {
     "name": "stdout",
     "output_type": "stream",
     "text": [
      "Bonus = 25000.0\n"
     ]
    }
   ],
   "source": [
    "salary=int(input(\"Enter your salary\"))\n",
    "year=float(input(\"Enter expriency in year\"))\n",
    "if year > 5:\n",
    "    print(f\"Bonus = {salary*0.05}\")\n",
    "else:\n",
    "    print(f\"Bonus = 0\")\n"
   ]
  },
  {
   "cell_type": "markdown",
   "id": "39011972-7143-4102-94df-1ff256cc1871",
   "metadata": {},
   "source": [
    "## Programs on Functions\n",
    "### 1. Wap takes 1st and last no as an argument in function and prints all palindrome no."
   ]
  },
  {
   "cell_type": "code",
   "execution_count": 165,
   "id": "9f2d4d88-a3a2-459b-a729-af637589ff43",
   "metadata": {},
   "outputs": [
    {
     "name": "stdin",
     "output_type": "stream",
     "text": [
      "Enter the first number:  92\n",
      "Enter the last number:  123\n"
     ]
    },
    {
     "name": "stdout",
     "output_type": "stream",
     "text": [
      "Palindrome numbers between 92 and 123:\n",
      "99 101 111 121 "
     ]
    }
   ],
   "source": [
    "def is_palindrome(num):\n",
    "    return str(num) == str(num)[::-1]\n",
    "def print_palindrome_numbers(first, last):\n",
    "    print(f\"Palindrome numbers between {first} and {last}:\")\n",
    "    for num in range(first, last + 1):\n",
    "        if is_palindrome(num):\n",
    "            print(num,end=(\" \"))\n",
    "first = int(input(\"Enter the first number: \"))\n",
    "last = int(input(\"Enter the last number: \"))\n",
    "print_palindrome_numbers(first, last)"
   ]
  },
  {
   "cell_type": "markdown",
   "id": "f96c8d06-9725-4a40-b6a6-92f4624a986a",
   "metadata": {},
   "source": [
    "### 2. Wap takes 1st and last no as an argument in function and prints all armstrong no"
   ]
  },
  {
   "cell_type": "code",
   "execution_count": 166,
   "id": "5c003b3a-1620-4f30-9506-91ec981b8b61",
   "metadata": {},
   "outputs": [
    {
     "name": "stdin",
     "output_type": "stream",
     "text": [
      "Enter the first number:  99\n",
      "Enter the last number:  1234\n"
     ]
    },
    {
     "name": "stdout",
     "output_type": "stream",
     "text": [
      "Armstrong numbers between 99 and 1234:\n",
      "153 370 371 407 "
     ]
    }
   ],
   "source": [
    "def is_armstrong(num):\n",
    "    digits = str(num)\n",
    "    power = len(digits)\n",
    "    total = sum(int(d)**power for d in digits)\n",
    "    return total == num\n",
    "def print_armstrong_numbers(first, last):\n",
    "    print(f\"Armstrong numbers between {first} and {last}:\")\n",
    "    for num in range(first, last + 1):\n",
    "        if is_armstrong(num):\n",
    "            print(num,end=(\" \"))\n",
    "first = int(input(\"Enter the first number: \"))\n",
    "last = int(input(\"Enter the last number: \"))\n",
    "print_armstrong_numbers(first, last)"
   ]
  },
  {
   "cell_type": "markdown",
   "id": "c387db89-1a6b-4b8b-a328-81a195019fef",
   "metadata": {},
   "source": [
    "### 3. Wap take input of 5 digit no and print sum and count of only even no"
   ]
  },
  {
   "cell_type": "code",
   "execution_count": 167,
   "id": "3de2631e-5ea0-46b9-8a05-cc4607ad76b4",
   "metadata": {},
   "outputs": [
    {
     "name": "stdin",
     "output_type": "stream",
     "text": [
      "Enter a 5-digit number:  12345\n"
     ]
    },
    {
     "name": "stdout",
     "output_type": "stream",
     "text": [
      "Sum of even digits: 6\n",
      "Count of even digits: 2\n"
     ]
    }
   ],
   "source": [
    "def even_sum_and_count(num):\n",
    "    if len(str(num)) != 5:\n",
    "        print(\"Please enter a 5-digit number.\")\n",
    "        return\n",
    "    sum_even = 0\n",
    "    count_even = 0\n",
    "    for digit in str(num):\n",
    "        d = int(digit)\n",
    "        if d % 2 == 0:\n",
    "            sum_even += d\n",
    "            count_even += 1\n",
    "    print(f\"Sum of even digits: {sum_even}\")\n",
    "    print(f\"Count of even digits: {count_even}\")\n",
    "number = int(input(\"Enter a 5-digit number: \"))\n",
    "even_sum_and_count(number)"
   ]
  },
  {
   "cell_type": "markdown",
   "id": "e5ea6865-cec5-4d52-93ba-d3f9f6751ebe",
   "metadata": {},
   "source": [
    "### 4. Wap take two no as an argument and return power."
   ]
  },
  {
   "cell_type": "code",
   "execution_count": 168,
   "id": "d26b6b5b-31d4-45c0-a3ed-1f0c21d4ae4a",
   "metadata": {},
   "outputs": [
    {
     "name": "stdin",
     "output_type": "stream",
     "text": [
      "Enter the base number:  6\n",
      "Enter the exponent number:  3\n"
     ]
    },
    {
     "name": "stdout",
     "output_type": "stream",
     "text": [
      "6 raised to the power 3 is: 216\n"
     ]
    }
   ],
   "source": [
    "def power(base, exponent):\n",
    "    return base ** exponent\n",
    "base = int(input(\"Enter the base number: \"))\n",
    "exponent = int(input(\"Enter the exponent number: \"))\n",
    "result = power(base, exponent)\n",
    "print(f\"{base} raised to the power {exponent} is: {result}\")"
   ]
  },
  {
   "cell_type": "code",
   "execution_count": null,
   "id": "3ccc5043-6272-4452-baf1-d8435506ac1b",
   "metadata": {},
   "outputs": [],
   "source": []
  }
 ],
 "metadata": {
  "kernelspec": {
   "display_name": "Python 3 (ipykernel)",
   "language": "python",
   "name": "python3"
  },
  "language_info": {
   "codemirror_mode": {
    "name": "ipython",
    "version": 3
   },
   "file_extension": ".py",
   "mimetype": "text/x-python",
   "name": "python",
   "nbconvert_exporter": "python",
   "pygments_lexer": "ipython3",
   "version": "3.12.7"
  }
 },
 "nbformat": 4,
 "nbformat_minor": 5
}
